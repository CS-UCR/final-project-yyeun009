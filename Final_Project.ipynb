{
 "cells": [
  {
   "cell_type": "markdown",
   "id": "1dca44a1",
   "metadata": {},
   "source": [
    "# Introduction\n",
    "\n",
    "In this project, I will analyze the relation between the price of UK houses, the amount of room, location, and the date of purchase. To get a reliable analysis, we will use the dataset for recent 3 years (2018 - 2020)."
   ]
  },
  {
   "cell_type": "code",
   "execution_count": 185,
   "id": "dad76a8a",
   "metadata": {},
   "outputs": [],
   "source": [
    "import requests\n",
    "import pandas as pd\n",
    "import os\n",
    "import numpy as np\n",
    "from bs4 import BeautifulSoup\n",
    "pd.options.mode.chained_assignment = None  # default='warn'"
   ]
  },
  {
   "cell_type": "markdown",
   "id": "6cd5ef71",
   "metadata": {},
   "source": [
    "# Download the UK house price dataset from API\n",
    "\n",
    "This dataset has a very huge size (about 200MB for a year) that we must seperate the dataset month by month."
   ]
  },
  {
   "cell_type": "code",
   "execution_count": null,
   "id": "6a10356b",
   "metadata": {},
   "outputs": [],
   "source": [
    "URL = \"https://landregistry.data.gov.uk/app/ppd/ppd_data.csv?et%5B%5D=lrcommon%3Afreehold&et%5B%5D=lrcommon%3Aleasehold\" \\\n",
    "      \"&limit=all&max_date=&min_date=&nb%5B%5D=true&nb%5B%5D=false&ptype%5B%5D=lrcommon%3Adetached&\" \\\n",
    "      \"ptype%5B%5D=lrcommon%3Asemi-detached&ptype%5B%5D=lrcommon%3Aterraced&ptype%5B%5D=lrcommon%3Aflat-maisonette&ptyp\" \\\n",
    "      \"e%5B%5D=lrcommon%3AotherPropertyType&tc%5B%5D=ppd%3AstandardPricePaidTransaction&tc%5B%5D=ppd%3AadditionalPriceP\" \\\n",
    "      \"aidTransaction\"\n",
    "\n",
    "thirty = [4, 6, 9, 11]\n",
    "thirty_one = [1, 3, 5, 7, 8, 10, 12]\n",
    "leap = [2000, 2004, 2008, 2012, 2016, 2020]\n",
    "\n",
    "\n",
    "def download(min_date, max_date):\n",
    "    url = URL.replace(\"min_date=\", \"min_date=\" + min_date)\n",
    "    url = url.replace(\"max_date=\", \"max_date=\" + max_date)\n",
    "    print(\"Downloading： \" + min_date + \"_\" + max_date + \".csv\")\n",
    "    r = requests.get(url)\n",
    "    with open(\".\\\\\" + min_date + \"_\" + max_date + \".csv\", \"wb\") as file:\n",
    "        file.write(r.content)\n",
    "\n",
    "\n",
    "def min_date_generate(y, m):\n",
    "    if y >= 10:\n",
    "        int_year = int(\"20\" + str(y))\n",
    "    else:\n",
    "        int_year = int(\"200\" + str(y))\n",
    "\n",
    "    str_year = str(int_year)\n",
    "    if m >= 10:\n",
    "        min_date = str_year + \"-\" + str(m) + \"-01\"\n",
    "    else:\n",
    "        min_date = str_year + \"-0\" + str(m) + \"-01\"\n",
    "    return min_date\n",
    "\n",
    "\n",
    "def max_date_generate(y, m):\n",
    "    if y >= 10:\n",
    "        int_year = int(\"20\" + str(y))\n",
    "    else:\n",
    "        int_year = int(\"200\" + str(y))\n",
    "\n",
    "    str_year = str(int_year)\n",
    "    if m in thirty:\n",
    "        if m >= 10:\n",
    "            max_date = str_year + \"-\" + str(m) + \"-30\"\n",
    "        else:\n",
    "            max_date = str_year + \"-0\" + str(m) + \"-30\"\n",
    "    elif m in thirty_one:\n",
    "        if m >= 10:\n",
    "            max_date = str_year + \"-\" + str(m) + \"-31\"\n",
    "        else:\n",
    "            max_date = str_year + \"-0\" + str(m) + \"-31\"\n",
    "    else:\n",
    "        if int_year in leap:\n",
    "            max_date = str_year + \"-0\" + str(m) + \"-29\"\n",
    "        else:\n",
    "            max_date = str_year + \"-0\" + str(m) + \"-28\"\n",
    "    return max_date\n",
    "\n",
    "# y stand for year\n",
    "# m stand for month\n",
    "for y in range(17, 21):\n",
    "    for m in range(1, 13):\n",
    "        download(min_date_generate(y, m), max_date_generate(y, m))\n",
    "print(\"Done\")"
   ]
  },
  {
   "cell_type": "markdown",
   "id": "22bc2d93",
   "metadata": {},
   "source": [
    "# Webcrawling the room info dataset from Zoopla\n",
    "\n",
    "The UK goverment only provides the price, very detailed address, and purchase date of houses, thus we need to obtain the amount of room for each house in the UK house price dataset. Zoopla has provided the amount of room for some houses that might included in the UK house price dataset, thus we can webcrawling the needed data from Zoopla."
   ]
  },
  {
   "cell_type": "markdown",
   "id": "276bb090",
   "metadata": {},
   "source": [
    "Here, we import the UK house price datasets and merge them to one."
   ]
  },
  {
   "cell_type": "code",
   "execution_count": 108,
   "id": "5a51da1b",
   "metadata": {},
   "outputs": [],
   "source": [
    "header_list = [\"ID\", \"Price\", \"Date\", \"Postcode\", \"Property type\", \"New build\",\n",
    "               \"Estate type\", \"SAON\", \"PAON\", \"Street\", \"Locality\",\n",
    "               \"District\", \"Town\", \"County\", \"Transaction category\", \"Website\"]\n",
    "files = os.listdir('./')\n",
    "dfs = []\n",
    "for file in files:\n",
    "    if \".csv\" in file:\n",
    "        df = pd.read_csv(os.path.abspath(\"./\" + file), names=header_list)\n",
    "        dfs.append(df)\n",
    "df = pd.concat(dfs, axis=0, ignore_index=True)"
   ]
  },
  {
   "cell_type": "markdown",
   "id": "f27ae4bb",
   "metadata": {},
   "source": [
    "However, the dataset is too huge that it could take months even if we use multithread to gather the data. Thus, we need to use random sample with dataframe for a reliable amount of data."
   ]
  },
  {
   "cell_type": "code",
   "execution_count": null,
   "id": "e2ea6e3d",
   "metadata": {},
   "outputs": [],
   "source": [
    "df = df.sample(24000, random_state=1) # seed = 1\n",
    "df.sort_index()"
   ]
  },
  {
   "cell_type": "markdown",
   "id": "d231d1cd",
   "metadata": {},
   "source": [
    "It is possible that some rows contains NaN in County column, which need to be dropped."
   ]
  },
  {
   "cell_type": "code",
   "execution_count": 23,
   "id": "68e6a283",
   "metadata": {},
   "outputs": [],
   "source": [
    "# Drop useless column for address dataframe\n",
    "df_address = df.drop(columns=[\"ID\", \"New build\", \"Property type\", \"Estate type\", \"Date\",\n",
    "                              \"Price\", \"Transaction category\", \"Website\", \"Town\"])\n",
    "\n",
    "# Drop the same row in df_address\n",
    "df_address = df_address[df_address[\"County\"].isnull() == False]\n",
    "df_address = df_address[df_address[\"Postcode\"].isnull() == False]"
   ]
  },
  {
   "cell_type": "code",
   "execution_count": 24,
   "id": "ce0ca729",
   "metadata": {},
   "outputs": [],
   "source": [
    "# Export the csv for future uses\n",
    "df_address.to_csv(\"./address.csv\")"
   ]
  },
  {
   "cell_type": "code",
   "execution_count": 147,
   "id": "ceef7915",
   "metadata": {},
   "outputs": [
    {
     "data": {
      "text/html": [
       "<div>\n",
       "<style scoped>\n",
       "    .dataframe tbody tr th:only-of-type {\n",
       "        vertical-align: middle;\n",
       "    }\n",
       "\n",
       "    .dataframe tbody tr th {\n",
       "        vertical-align: top;\n",
       "    }\n",
       "\n",
       "    .dataframe thead th {\n",
       "        text-align: right;\n",
       "    }\n",
       "</style>\n",
       "<table border=\"1\" class=\"dataframe\">\n",
       "  <thead>\n",
       "    <tr style=\"text-align: right;\">\n",
       "      <th></th>\n",
       "      <th>Postcode</th>\n",
       "      <th>SAON</th>\n",
       "      <th>PAON</th>\n",
       "      <th>Street</th>\n",
       "      <th>Locality</th>\n",
       "      <th>District</th>\n",
       "      <th>County</th>\n",
       "    </tr>\n",
       "  </thead>\n",
       "  <tbody>\n",
       "    <tr>\n",
       "      <th>1411449</th>\n",
       "      <td>NN18 0QT</td>\n",
       "      <td>NaN</td>\n",
       "      <td>18</td>\n",
       "      <td>LOWRY CLOSE</td>\n",
       "      <td>NaN</td>\n",
       "      <td>CORBY</td>\n",
       "      <td>NORTHAMPTONSHIRE</td>\n",
       "    </tr>\n",
       "    <tr>\n",
       "      <th>1405363</th>\n",
       "      <td>ME17 4QU</td>\n",
       "      <td>NaN</td>\n",
       "      <td>10</td>\n",
       "      <td>ADAM CLOSE</td>\n",
       "      <td>COXHEATH</td>\n",
       "      <td>MAIDSTONE</td>\n",
       "      <td>KENT</td>\n",
       "    </tr>\n",
       "    <tr>\n",
       "      <th>3738994</th>\n",
       "      <td>E17 5ES</td>\n",
       "      <td>NaN</td>\n",
       "      <td>90</td>\n",
       "      <td>FLEEMING ROAD</td>\n",
       "      <td>WALTHAMSTOW</td>\n",
       "      <td>LONDON</td>\n",
       "      <td>GREATER LONDON</td>\n",
       "    </tr>\n",
       "    <tr>\n",
       "      <th>2916886</th>\n",
       "      <td>WV7 3PX</td>\n",
       "      <td>NaN</td>\n",
       "      <td>3</td>\n",
       "      <td>BARCLAY CLOSE</td>\n",
       "      <td>ALBRIGHTON</td>\n",
       "      <td>WOLVERHAMPTON</td>\n",
       "      <td>SHROPSHIRE</td>\n",
       "    </tr>\n",
       "    <tr>\n",
       "      <th>1993268</th>\n",
       "      <td>SP8 4JS</td>\n",
       "      <td>NaN</td>\n",
       "      <td>24</td>\n",
       "      <td>ADDISON CLOSE</td>\n",
       "      <td>NaN</td>\n",
       "      <td>GILLINGHAM</td>\n",
       "      <td>DORSET</td>\n",
       "    </tr>\n",
       "    <tr>\n",
       "      <th>...</th>\n",
       "      <td>...</td>\n",
       "      <td>...</td>\n",
       "      <td>...</td>\n",
       "      <td>...</td>\n",
       "      <td>...</td>\n",
       "      <td>...</td>\n",
       "      <td>...</td>\n",
       "    </tr>\n",
       "    <tr>\n",
       "      <th>2786415</th>\n",
       "      <td>MK41 9DE</td>\n",
       "      <td>NaN</td>\n",
       "      <td>45</td>\n",
       "      <td>LEASWAY</td>\n",
       "      <td>NaN</td>\n",
       "      <td>BEDFORD</td>\n",
       "      <td>BEDFORD</td>\n",
       "    </tr>\n",
       "    <tr>\n",
       "      <th>52187</th>\n",
       "      <td>SA1 6HT</td>\n",
       "      <td>NaN</td>\n",
       "      <td>26</td>\n",
       "      <td>PENYGRAIG ROAD</td>\n",
       "      <td>TOWNHILL</td>\n",
       "      <td>SWANSEA</td>\n",
       "      <td>SWANSEA</td>\n",
       "    </tr>\n",
       "    <tr>\n",
       "      <th>3788842</th>\n",
       "      <td>TQ3 3QY</td>\n",
       "      <td>NaN</td>\n",
       "      <td>74</td>\n",
       "      <td>COLLEY END ROAD</td>\n",
       "      <td>NaN</td>\n",
       "      <td>PAIGNTON</td>\n",
       "      <td>TORBAY</td>\n",
       "    </tr>\n",
       "    <tr>\n",
       "      <th>3173169</th>\n",
       "      <td>BN16 2TR</td>\n",
       "      <td>NaN</td>\n",
       "      <td>27</td>\n",
       "      <td>THE ROYSTONS</td>\n",
       "      <td>EAST PRESTON</td>\n",
       "      <td>LITTLEHAMPTON</td>\n",
       "      <td>WEST SUSSEX</td>\n",
       "    </tr>\n",
       "    <tr>\n",
       "      <th>219631</th>\n",
       "      <td>SS15 5XU</td>\n",
       "      <td>NaN</td>\n",
       "      <td>3</td>\n",
       "      <td>MUNDELLS DRIVE</td>\n",
       "      <td>NaN</td>\n",
       "      <td>BASILDON</td>\n",
       "      <td>ESSEX</td>\n",
       "    </tr>\n",
       "  </tbody>\n",
       "</table>\n",
       "<p>23870 rows × 7 columns</p>\n",
       "</div>"
      ],
      "text/plain": [
       "         Postcode SAON PAON           Street      Locality       District  \\\n",
       "1411449  NN18 0QT  NaN   18      LOWRY CLOSE           NaN          CORBY   \n",
       "1405363  ME17 4QU  NaN   10       ADAM CLOSE      COXHEATH      MAIDSTONE   \n",
       "3738994   E17 5ES  NaN   90    FLEEMING ROAD   WALTHAMSTOW         LONDON   \n",
       "2916886   WV7 3PX  NaN    3    BARCLAY CLOSE    ALBRIGHTON  WOLVERHAMPTON   \n",
       "1993268   SP8 4JS  NaN   24    ADDISON CLOSE           NaN     GILLINGHAM   \n",
       "...           ...  ...  ...              ...           ...            ...   \n",
       "2786415  MK41 9DE  NaN   45          LEASWAY           NaN        BEDFORD   \n",
       "52187     SA1 6HT  NaN   26   PENYGRAIG ROAD      TOWNHILL        SWANSEA   \n",
       "3788842   TQ3 3QY  NaN   74  COLLEY END ROAD           NaN       PAIGNTON   \n",
       "3173169  BN16 2TR  NaN   27     THE ROYSTONS  EAST PRESTON  LITTLEHAMPTON   \n",
       "219631   SS15 5XU  NaN    3   MUNDELLS DRIVE           NaN       BASILDON   \n",
       "\n",
       "                   County  \n",
       "1411449  NORTHAMPTONSHIRE  \n",
       "1405363              KENT  \n",
       "3738994    GREATER LONDON  \n",
       "2916886        SHROPSHIRE  \n",
       "1993268            DORSET  \n",
       "...                   ...  \n",
       "2786415           BEDFORD  \n",
       "52187             SWANSEA  \n",
       "3788842            TORBAY  \n",
       "3173169       WEST SUSSEX  \n",
       "219631              ESSEX  \n",
       "\n",
       "[23870 rows x 7 columns]"
      ]
     },
     "execution_count": 147,
     "metadata": {},
     "output_type": "execute_result"
    }
   ],
   "source": [
    "df_address = pd.read_csv(\"./address.csv\", index_col=0)\n",
    "df_address"
   ]
  },
  {
   "cell_type": "markdown",
   "id": "b98116dc",
   "metadata": {},
   "source": [
    "Now we can extract the postcode from UK house price dataset to obtain the room info."
   ]
  },
  {
   "cell_type": "code",
   "execution_count": 271,
   "id": "3fad6783",
   "metadata": {},
   "outputs": [],
   "source": [
    "# Define a url request function\n",
    "def get_url_content(postcode, page):\n",
    "    postcode = postcode.replace(' ', '-')\n",
    "    url = 'http://www.zoopla.co.uk/house-prices/stalbans/cottonmill-lane/' + postcode + '/' + \"?pn=\" + str(page)\n",
    "    data = requests.get(url, proxies={\"http://\": requests.get(\"http://localhost:5555/random\").text.strip()})\n",
    "    return data"
   ]
  },
  {
   "cell_type": "code",
   "execution_count": 272,
   "id": "467a0c6a",
   "metadata": {},
   "outputs": [],
   "source": [
    "# Define a function that can combine the value of columns to a string.\n",
    "def to_string(df):\n",
    "    string = \"\"\n",
    "    if not str(df[\"SAON\"]).upper() == \"NAN\":\n",
    "        if df[\"SAON\"].isdigit():\n",
    "            string = string + df[\"SAON\"] + \" \"\n",
    "        else:\n",
    "            string = string + df[\"SAON\"] + \" \"\n",
    "            \n",
    "    if not str(df[\"PAON\"]).upper() == \"NAN\":\n",
    "        if \" - \" in df[\"PAON\"]:\n",
    "            df[\"PAON\"] = df[\"PAON\"].replace(\" - \", \"-\")\n",
    "        if df[\"PAON\"].isdigit():\n",
    "            string = string + df[\"PAON\"] + \" \"\n",
    "        else:\n",
    "            string = string + df[\"PAON\"] + \" \"\n",
    "            \n",
    "    if not str(df[\"Street\"]).upper() == \"NAN\":\n",
    "        string = string + df[\"Street\"]\n",
    "        \n",
    "    string = string.replace(\",\", \" \")\n",
    "    string = string.replace(\"  \", \" \")\n",
    "    return string"
   ]
  },
  {
   "cell_type": "markdown",
   "id": "68f34357",
   "metadata": {},
   "source": [
    "Here, we use a multiprocessing to increase the speed of gathering. It will cost 30 hours if we use single process to gather the data. With 5 processes, the time will decrease to around 6 hours, so it is necessary to use a multiprocessing.\n",
    "\n",
    "However, jupyter notebook cannot use multiprocessing, thus I gathered the data and exported the data into a csv.\n",
    "\n",
    "Below is the code I used to gather the data."
   ]
  },
  {
   "cell_type": "code",
   "execution_count": null,
   "id": "d752e586",
   "metadata": {},
   "outputs": [],
   "source": [
    "import time\n",
    "import multiprocessing\n",
    "import math\n",
    "\n",
    "def gather(dataframe):\n",
    "    print(multiprocessing.current_process().name)\n",
    "\n",
    "    # Initialize page limit\n",
    "    pages = 1\n",
    "\n",
    "    # Loop until last page OR obtained the info for specific address\n",
    "    for i in range(len(dataframe)):\n",
    "        try:\n",
    "            # Initialize the value per row\n",
    "            bedroom = None\n",
    "            bathroom = None\n",
    "            reception = None\n",
    "            wanted_address = to_string(dataframe.iloc[i])\n",
    "            # print(wanted_address)\n",
    "            found = False\n",
    "            for j in range(1, pages + 1):\n",
    "                # request data from website\n",
    "                bs = BeautifulSoup(get_url_content(dataframe[\"Postcode\"].iloc[i].replace(\" \", \"-\"), j).content,\n",
    "                                   \"html.parser\")\n",
    "\n",
    "                # update page limit\n",
    "                info = bs.find_all(\"div\", {\"class\": \"paginate bg-muted\"})\n",
    "                if len(info) == 1:\n",
    "                    info = info[0].find_all(\"a\")\n",
    "                    if len(info) > 2:\n",
    "                        pages = int(info[-2].text)\n",
    "\n",
    "                room_info = bs.find_all(\"div\", {\"class\": \"hp-card-list\"})\n",
    "\n",
    "                if len(room_info) == 1:\n",
    "                    room_info = room_info[0].find_all(\"section\", {\"class\": \"hp-card\"})\n",
    "                else:\n",
    "                    break\n",
    "\n",
    "                # Check if the address in this page\n",
    "                for room in room_info:\n",
    "                    searched_address = room.find(\"h3\", {\"class\": \"hp-card__title\"}).string.strip().replace(\",\",\n",
    "                                                                                                           \"\").upper()\n",
    "                    # print(searched_address.replace(\" \" + dataframe[\"Postcode\"].iloc[i], \"\"))\n",
    "                    if wanted_address.strip() == searched_address.replace(\" \" + dataframe[\"Postcode\"].iloc[i], \"\"):\n",
    "                        print(\"Found\")\n",
    "                        # indicate room info found to exit traverse pages\n",
    "                        found = True\n",
    "\n",
    "                        # Bedroom\n",
    "                        if room.find(\"li\", {\"class\": \"hp-card-room hp-card-room--bed\"}) is not None:\n",
    "                            bedroom = int(room.find(\"li\", {\"class\": \"hp-card-room hp-card-room--bed\"})\n",
    "                                          .text.replace(\"\\n\", \"\").replace(\"             \", \"\")\n",
    "                                          .strip().replace(\"Bedrooms:\", \"\"))\n",
    "\n",
    "                        # Bathroom\n",
    "                        if room.find(\"li\", {\"class\": \"hp-card-room hp-card-room--bath\"}) is not None:\n",
    "                            bathroom = int(room.find(\"li\", {\"class\": \"hp-card-room hp-card-room--bath\"})\n",
    "                                           .text.replace(\"\\n\", \"\").replace(\"             \", \"\")\n",
    "                                           .strip().replace(\"Bathrooms:\", \"\"))\n",
    "\n",
    "                        # Reception\n",
    "                        if room.find(\"li\", {\"class\": \"hp-card-room hp-card-room--recept\"}) is not None:\n",
    "                            reception = int(room.find(\"li\", {\"class\": \"hp-card-room hp-card-room--recept\"})\n",
    "                                            .text.replace(\"\\n\", \"\").replace(\"             \", \"\")\n",
    "                                            .strip().replace(\"Reception rooms:\", \"\"))\n",
    "                        break\n",
    "\n",
    "                # If room info found, find next room info.\n",
    "                if found:\n",
    "                    break\n",
    "\n",
    "            dataframe.loc[dataframe.index[i], 'Bedroom'] = bedroom\n",
    "            dataframe.loc[dataframe.index[i], 'Bathroom'] = bathroom\n",
    "            dataframe.loc[dataframe.index[i], 'Reception'] = reception\n",
    "            print(wanted_address)\n",
    "            print(bedroom)\n",
    "            print(bathroom)\n",
    "            print(reception)\n",
    "            print()\n",
    "        except TypeError:\n",
    "            dataframe.loc[dataframe.index[i], 'Bedroom'] = \"fail\"\n",
    "            dataframe.loc[dataframe.index[i], 'Bathroom'] = \"fail\"\n",
    "            dataframe.loc[dataframe.index[i], 'Reception'] = \"fail\"\n",
    "    dataframe.to_csv(\"./dataset/\" + str(dataframe.index[0]) + \".csv\")\n",
    "\n",
    "def split_df(df, num):\n",
    "    df_list = []\n",
    "    length = math.ceil(len(df_address) / num)\n",
    "    for i in range(num):\n",
    "        if i == 0:\n",
    "            df_split = df.iloc[range(0, length)]\n",
    "            df_list.append(df_split)\n",
    "        elif i == num - 1:\n",
    "            df_split = df.iloc[range(length * i, len(df))]\n",
    "            df_list.append(df_split)\n",
    "        else:\n",
    "            df_split = df.iloc[range(length * i, length * (i + 1))]\n",
    "            df_list.append(df_split)\n",
    "    return df_list\n",
    "\n",
    "\n",
    "if __name__ == '__main__':\n",
    "    df_address = pd.read_csv(\"./address.csv\", index_col=0)\n",
    "    df_list = split_df(df_address, 100) # seperate the dataframe\n",
    "\n",
    "    t1 = time.time()\n",
    "    pool = multiprocessing.Pool(processes=5)\n",
    "\n",
    "    pool.map(gather, df_list[:])\n",
    "    print(time.time() - t1)       # It took about 6 hours to gather the data\n",
    "\n",
    "    pool.close()\n",
    "    pool.join()"
   ]
  },
  {
   "cell_type": "markdown",
   "id": "932a3b24",
   "metadata": {},
   "source": [
    "# Merging both datasets\n",
    "\n",
    "We will merge both datasets to obtain a dataset which has price, purchase of date, city, and amount of room for each house."
   ]
  },
  {
   "cell_type": "markdown",
   "id": "98d045ed",
   "metadata": {},
   "source": [
    "Now we need to read csv files which were output by the above code."
   ]
  },
  {
   "cell_type": "code",
   "execution_count": 106,
   "id": "90ddc2bc",
   "metadata": {},
   "outputs": [],
   "source": [
    "files = os.listdir('./dataset/')\n",
    "dfs = []\n",
    "for file in files:\n",
    "    if \".csv\" in file:\n",
    "        df2 = pd.read_csv(os.path.abspath(\"./dataset/\" + file), index_col=0)\n",
    "        dfs.append(df2)\n",
    "df_room = pd.concat(dfs, axis=0)"
   ]
  },
  {
   "cell_type": "markdown",
   "id": "e1872017",
   "metadata": {},
   "source": [
    "Now we can construct a df_price dataframe base on the df_address dataframe"
   ]
  },
  {
   "cell_type": "code",
   "execution_count": 143,
   "id": "32a1e3b4",
   "metadata": {},
   "outputs": [],
   "source": [
    "# Construct a new Dataframe\n",
    "df2 = pd.DataFrame(columns = header_list)\n",
    "\n",
    "# Add three new columns\n",
    "df2[\"Bedroom\"] = None\n",
    "df2[\"Bathroom\"] = None\n",
    "df2[\"Reception\"] = None\n",
    "\n",
    "# Assign row of df_room from original dataframe\n",
    "for x in range(len(df)):\n",
    "    if x in df_room.index:\n",
    "        df2.loc[x] = df.loc[x]\n",
    "        df2[\"Bedroom\"].loc[x] = df_room[\"Bedroom\"].loc[x]\n",
    "        df2[\"Bathroom\"].loc[x] = df_room[\"Bathroom\"].loc[x]\n",
    "        df2[\"Reception\"].loc[x] = df_room[\"Reception\"].loc[x]\n",
    "        \n",
    "# Export this dataframe for future use\n",
    "df2.to_csv(\"./price_and_room.csv\")"
   ]
  },
  {
   "cell_type": "markdown",
   "id": "208b02d5",
   "metadata": {},
   "source": [
    "# Processing the dataset\n",
    "\n",
    "Now we have all the information we need in this new dataframe - df2. Apparently, this dataset is not clean enough to perform visualization or use to train a model, so we need to clean this dataset first."
   ]
  },
  {
   "cell_type": "code",
   "execution_count": 131,
   "id": "7ad0c8d1",
   "metadata": {},
   "outputs": [
    {
     "data": {
      "text/html": [
       "<div>\n",
       "<style scoped>\n",
       "    .dataframe tbody tr th:only-of-type {\n",
       "        vertical-align: middle;\n",
       "    }\n",
       "\n",
       "    .dataframe tbody tr th {\n",
       "        vertical-align: top;\n",
       "    }\n",
       "\n",
       "    .dataframe thead th {\n",
       "        text-align: right;\n",
       "    }\n",
       "</style>\n",
       "<table border=\"1\" class=\"dataframe\">\n",
       "  <thead>\n",
       "    <tr style=\"text-align: right;\">\n",
       "      <th></th>\n",
       "      <th>Price</th>\n",
       "      <th>Date</th>\n",
       "      <th>Property type</th>\n",
       "      <th>Estate type</th>\n",
       "      <th>County</th>\n",
       "      <th>Bedroom</th>\n",
       "      <th>Bathroom</th>\n",
       "      <th>Reception</th>\n",
       "    </tr>\n",
       "  </thead>\n",
       "  <tbody>\n",
       "    <tr>\n",
       "      <th>500</th>\n",
       "      <td>299999</td>\n",
       "      <td>2017-01-27</td>\n",
       "      <td>S</td>\n",
       "      <td>F</td>\n",
       "      <td>WEST MIDLANDS</td>\n",
       "      <td>3.0</td>\n",
       "      <td>1.0</td>\n",
       "      <td>2.0</td>\n",
       "    </tr>\n",
       "    <tr>\n",
       "      <th>1332</th>\n",
       "      <td>383000</td>\n",
       "      <td>2017-01-27</td>\n",
       "      <td>D</td>\n",
       "      <td>F</td>\n",
       "      <td>WORCESTERSHIRE</td>\n",
       "      <td>4.0</td>\n",
       "      <td>2.0</td>\n",
       "      <td>3.0</td>\n",
       "    </tr>\n",
       "    <tr>\n",
       "      <th>1807</th>\n",
       "      <td>90000</td>\n",
       "      <td>2017-01-27</td>\n",
       "      <td>T</td>\n",
       "      <td>F</td>\n",
       "      <td>STAFFORDSHIRE</td>\n",
       "      <td>2.0</td>\n",
       "      <td>1.0</td>\n",
       "      <td>1.0</td>\n",
       "    </tr>\n",
       "    <tr>\n",
       "      <th>1822</th>\n",
       "      <td>150000</td>\n",
       "      <td>2017-01-20</td>\n",
       "      <td>T</td>\n",
       "      <td>F</td>\n",
       "      <td>STAFFORDSHIRE</td>\n",
       "      <td>3.0</td>\n",
       "      <td>1.0</td>\n",
       "      <td>2.0</td>\n",
       "    </tr>\n",
       "    <tr>\n",
       "      <th>2667</th>\n",
       "      <td>215000</td>\n",
       "      <td>2017-01-20</td>\n",
       "      <td>S</td>\n",
       "      <td>F</td>\n",
       "      <td>SOMERSET</td>\n",
       "      <td>3.0</td>\n",
       "      <td>2.0</td>\n",
       "      <td>1.0</td>\n",
       "    </tr>\n",
       "    <tr>\n",
       "      <th>...</th>\n",
       "      <td>...</td>\n",
       "      <td>...</td>\n",
       "      <td>...</td>\n",
       "      <td>...</td>\n",
       "      <td>...</td>\n",
       "      <td>...</td>\n",
       "      <td>...</td>\n",
       "      <td>...</td>\n",
       "    </tr>\n",
       "    <tr>\n",
       "      <th>3883889</th>\n",
       "      <td>320000</td>\n",
       "      <td>2020-12-08</td>\n",
       "      <td>T</td>\n",
       "      <td>F</td>\n",
       "      <td>STAFFORDSHIRE</td>\n",
       "      <td>3.0</td>\n",
       "      <td>2.0</td>\n",
       "      <td>2.0</td>\n",
       "    </tr>\n",
       "    <tr>\n",
       "      <th>3884058</th>\n",
       "      <td>165000</td>\n",
       "      <td>2020-12-18</td>\n",
       "      <td>S</td>\n",
       "      <td>F</td>\n",
       "      <td>WEST MIDLANDS</td>\n",
       "      <td>3.0</td>\n",
       "      <td>NaN</td>\n",
       "      <td>2.0</td>\n",
       "    </tr>\n",
       "    <tr>\n",
       "      <th>3884318</th>\n",
       "      <td>190000</td>\n",
       "      <td>2020-12-14</td>\n",
       "      <td>D</td>\n",
       "      <td>F</td>\n",
       "      <td>WEST MIDLANDS</td>\n",
       "      <td>3.0</td>\n",
       "      <td>1.0</td>\n",
       "      <td>2.0</td>\n",
       "    </tr>\n",
       "    <tr>\n",
       "      <th>3884552</th>\n",
       "      <td>750000</td>\n",
       "      <td>2020-12-11</td>\n",
       "      <td>D</td>\n",
       "      <td>F</td>\n",
       "      <td>STAFFORDSHIRE</td>\n",
       "      <td>6.0</td>\n",
       "      <td>NaN</td>\n",
       "      <td>3.0</td>\n",
       "    </tr>\n",
       "    <tr>\n",
       "      <th>3885721</th>\n",
       "      <td>380000</td>\n",
       "      <td>2020-12-18</td>\n",
       "      <td>D</td>\n",
       "      <td>F</td>\n",
       "      <td>NORTH YORKSHIRE</td>\n",
       "      <td>4.0</td>\n",
       "      <td>3.0</td>\n",
       "      <td>2.0</td>\n",
       "    </tr>\n",
       "  </tbody>\n",
       "</table>\n",
       "<p>11546 rows × 8 columns</p>\n",
       "</div>"
      ],
      "text/plain": [
       "          Price        Date Property type Estate type           County  \\\n",
       "500      299999  2017-01-27             S           F    WEST MIDLANDS   \n",
       "1332     383000  2017-01-27             D           F   WORCESTERSHIRE   \n",
       "1807      90000  2017-01-27             T           F    STAFFORDSHIRE   \n",
       "1822     150000  2017-01-20             T           F    STAFFORDSHIRE   \n",
       "2667     215000  2017-01-20             S           F         SOMERSET   \n",
       "...         ...         ...           ...         ...              ...   \n",
       "3883889  320000  2020-12-08             T           F    STAFFORDSHIRE   \n",
       "3884058  165000  2020-12-18             S           F    WEST MIDLANDS   \n",
       "3884318  190000  2020-12-14             D           F    WEST MIDLANDS   \n",
       "3884552  750000  2020-12-11             D           F    STAFFORDSHIRE   \n",
       "3885721  380000  2020-12-18             D           F  NORTH YORKSHIRE   \n",
       "\n",
       "         Bedroom  Bathroom  Reception  \n",
       "500          3.0       1.0        2.0  \n",
       "1332         4.0       2.0        3.0  \n",
       "1807         2.0       1.0        1.0  \n",
       "1822         3.0       1.0        2.0  \n",
       "2667         3.0       2.0        1.0  \n",
       "...          ...       ...        ...  \n",
       "3883889      3.0       2.0        2.0  \n",
       "3884058      3.0       NaN        2.0  \n",
       "3884318      3.0       1.0        2.0  \n",
       "3884552      6.0       NaN        3.0  \n",
       "3885721      4.0       3.0        2.0  \n",
       "\n",
       "[11546 rows x 8 columns]"
      ]
     },
     "execution_count": 131,
     "metadata": {},
     "output_type": "execute_result"
    }
   ],
   "source": [
    "df2 = pd.read_csv(\"./price_and_room.csv\", index_col=0)\n",
    "\n",
    "# Drop rows that is not useful in our analysis.\n",
    "df2 = df2.drop(columns=[\"ID\", \"Postcode\", \"New build\", \"SAON\", \"PAON\", \"Street\", \"District\",\n",
    "                        \"Locality\", \"Town\", \"Transaction category\", \"Website\"])\n",
    "\n",
    "# Drop rows that NaN in more than 1 columns\n",
    "df2 = df2[((df2[\"Bedroom\"].isnull() == False) | (df2[\"Bathroom\"].isnull() == False))\n",
    "         &((df2[\"Bathroom\"].isnull() == False)| (df2[\"Reception\"].isnull() == False))\n",
    "         &((df2[\"Bedroom\"].isnull() == False) | (df2[\"Reception\"].isnull() == False))]\n",
    "\n",
    "df2 = df2[df2[\"Bedroom\"] != 0]\n",
    "df2 = df2[df2[\"Bathroom\"] != 0]\n",
    "df2 = df2[df2[\"Reception\"] != 0]\n",
    "\n",
    "df2"
   ]
  },
  {
   "cell_type": "markdown",
   "id": "24ff5687",
   "metadata": {},
   "source": [
    "Now we can identify how many rows that have NaN in room columns"
   ]
  },
  {
   "cell_type": "code",
   "execution_count": 132,
   "id": "5137d5ae",
   "metadata": {},
   "outputs": [
    {
     "name": "stdout",
     "output_type": "stream",
     "text": [
      "NaN in Bedroom: 0\n",
      "NaN in Bathroom: 1336\n",
      "NaN in Reception: 281\n"
     ]
    }
   ],
   "source": [
    "print(\"NaN in Bedroom:\", df2[\"Bedroom\"].isnull().sum())\n",
    "print(\"NaN in Bathroom:\", df2[\"Bathroom\"].isnull().sum())\n",
    "print(\"NaN in Reception:\", df2[\"Reception\"].isnull().sum())"
   ]
  },
  {
   "cell_type": "markdown",
   "id": "36327e75",
   "metadata": {},
   "source": [
    "Bathroom have about 11% NaN, and Reception have about 2% NaN. Here we can assign an approximate value for both columns based on two other columns. For example, if Bathroom is NaN, Bedroom is 3, and Reception is 2. Then we can assign the most common bathroom value for bedroom is 3 and reception is 2."
   ]
  },
  {
   "cell_type": "code",
   "execution_count": 133,
   "id": "585cbce0",
   "metadata": {},
   "outputs": [
    {
     "data": {
      "text/html": [
       "<div>\n",
       "<style scoped>\n",
       "    .dataframe tbody tr th:only-of-type {\n",
       "        vertical-align: middle;\n",
       "    }\n",
       "\n",
       "    .dataframe tbody tr th {\n",
       "        vertical-align: top;\n",
       "    }\n",
       "\n",
       "    .dataframe thead th {\n",
       "        text-align: right;\n",
       "    }\n",
       "</style>\n",
       "<table border=\"1\" class=\"dataframe\">\n",
       "  <thead>\n",
       "    <tr style=\"text-align: right;\">\n",
       "      <th></th>\n",
       "      <th>Price</th>\n",
       "      <th>Date</th>\n",
       "      <th>Property type</th>\n",
       "      <th>Estate type</th>\n",
       "      <th>County</th>\n",
       "      <th>Bedroom</th>\n",
       "      <th>Bathroom</th>\n",
       "      <th>Reception</th>\n",
       "    </tr>\n",
       "  </thead>\n",
       "  <tbody>\n",
       "    <tr>\n",
       "      <th>500</th>\n",
       "      <td>299999</td>\n",
       "      <td>2017-01-27</td>\n",
       "      <td>S</td>\n",
       "      <td>F</td>\n",
       "      <td>WEST MIDLANDS</td>\n",
       "      <td>3.0</td>\n",
       "      <td>1.000000</td>\n",
       "      <td>2.0</td>\n",
       "    </tr>\n",
       "    <tr>\n",
       "      <th>1332</th>\n",
       "      <td>383000</td>\n",
       "      <td>2017-01-27</td>\n",
       "      <td>D</td>\n",
       "      <td>F</td>\n",
       "      <td>WORCESTERSHIRE</td>\n",
       "      <td>4.0</td>\n",
       "      <td>2.000000</td>\n",
       "      <td>3.0</td>\n",
       "    </tr>\n",
       "    <tr>\n",
       "      <th>1807</th>\n",
       "      <td>90000</td>\n",
       "      <td>2017-01-27</td>\n",
       "      <td>T</td>\n",
       "      <td>F</td>\n",
       "      <td>STAFFORDSHIRE</td>\n",
       "      <td>2.0</td>\n",
       "      <td>1.000000</td>\n",
       "      <td>1.0</td>\n",
       "    </tr>\n",
       "    <tr>\n",
       "      <th>1822</th>\n",
       "      <td>150000</td>\n",
       "      <td>2017-01-20</td>\n",
       "      <td>T</td>\n",
       "      <td>F</td>\n",
       "      <td>STAFFORDSHIRE</td>\n",
       "      <td>3.0</td>\n",
       "      <td>1.000000</td>\n",
       "      <td>2.0</td>\n",
       "    </tr>\n",
       "    <tr>\n",
       "      <th>2667</th>\n",
       "      <td>215000</td>\n",
       "      <td>2017-01-20</td>\n",
       "      <td>S</td>\n",
       "      <td>F</td>\n",
       "      <td>SOMERSET</td>\n",
       "      <td>3.0</td>\n",
       "      <td>2.000000</td>\n",
       "      <td>1.0</td>\n",
       "    </tr>\n",
       "    <tr>\n",
       "      <th>...</th>\n",
       "      <td>...</td>\n",
       "      <td>...</td>\n",
       "      <td>...</td>\n",
       "      <td>...</td>\n",
       "      <td>...</td>\n",
       "      <td>...</td>\n",
       "      <td>...</td>\n",
       "      <td>...</td>\n",
       "    </tr>\n",
       "    <tr>\n",
       "      <th>3883889</th>\n",
       "      <td>320000</td>\n",
       "      <td>2020-12-08</td>\n",
       "      <td>T</td>\n",
       "      <td>F</td>\n",
       "      <td>STAFFORDSHIRE</td>\n",
       "      <td>3.0</td>\n",
       "      <td>2.000000</td>\n",
       "      <td>2.0</td>\n",
       "    </tr>\n",
       "    <tr>\n",
       "      <th>3884058</th>\n",
       "      <td>165000</td>\n",
       "      <td>2020-12-18</td>\n",
       "      <td>S</td>\n",
       "      <td>F</td>\n",
       "      <td>WEST MIDLANDS</td>\n",
       "      <td>3.0</td>\n",
       "      <td>1.242503</td>\n",
       "      <td>2.0</td>\n",
       "    </tr>\n",
       "    <tr>\n",
       "      <th>3884318</th>\n",
       "      <td>190000</td>\n",
       "      <td>2020-12-14</td>\n",
       "      <td>D</td>\n",
       "      <td>F</td>\n",
       "      <td>WEST MIDLANDS</td>\n",
       "      <td>3.0</td>\n",
       "      <td>1.000000</td>\n",
       "      <td>2.0</td>\n",
       "    </tr>\n",
       "    <tr>\n",
       "      <th>3884552</th>\n",
       "      <td>750000</td>\n",
       "      <td>2020-12-11</td>\n",
       "      <td>D</td>\n",
       "      <td>F</td>\n",
       "      <td>STAFFORDSHIRE</td>\n",
       "      <td>6.0</td>\n",
       "      <td>3.036522</td>\n",
       "      <td>3.0</td>\n",
       "    </tr>\n",
       "    <tr>\n",
       "      <th>3885721</th>\n",
       "      <td>380000</td>\n",
       "      <td>2020-12-18</td>\n",
       "      <td>D</td>\n",
       "      <td>F</td>\n",
       "      <td>NORTH YORKSHIRE</td>\n",
       "      <td>4.0</td>\n",
       "      <td>3.000000</td>\n",
       "      <td>2.0</td>\n",
       "    </tr>\n",
       "  </tbody>\n",
       "</table>\n",
       "<p>11546 rows × 8 columns</p>\n",
       "</div>"
      ],
      "text/plain": [
       "          Price        Date Property type Estate type           County  \\\n",
       "500      299999  2017-01-27             S           F    WEST MIDLANDS   \n",
       "1332     383000  2017-01-27             D           F   WORCESTERSHIRE   \n",
       "1807      90000  2017-01-27             T           F    STAFFORDSHIRE   \n",
       "1822     150000  2017-01-20             T           F    STAFFORDSHIRE   \n",
       "2667     215000  2017-01-20             S           F         SOMERSET   \n",
       "...         ...         ...           ...         ...              ...   \n",
       "3883889  320000  2020-12-08             T           F    STAFFORDSHIRE   \n",
       "3884058  165000  2020-12-18             S           F    WEST MIDLANDS   \n",
       "3884318  190000  2020-12-14             D           F    WEST MIDLANDS   \n",
       "3884552  750000  2020-12-11             D           F    STAFFORDSHIRE   \n",
       "3885721  380000  2020-12-18             D           F  NORTH YORKSHIRE   \n",
       "\n",
       "         Bedroom  Bathroom  Reception  \n",
       "500          3.0  1.000000        2.0  \n",
       "1332         4.0  2.000000        3.0  \n",
       "1807         2.0  1.000000        1.0  \n",
       "1822         3.0  1.000000        2.0  \n",
       "2667         3.0  2.000000        1.0  \n",
       "...          ...       ...        ...  \n",
       "3883889      3.0  2.000000        2.0  \n",
       "3884058      3.0  1.242503        2.0  \n",
       "3884318      3.0  1.000000        2.0  \n",
       "3884552      6.0  3.036522        3.0  \n",
       "3885721      4.0  3.000000        2.0  \n",
       "\n",
       "[11546 rows x 8 columns]"
      ]
     },
     "execution_count": 133,
     "metadata": {},
     "output_type": "execute_result"
    }
   ],
   "source": [
    "for x in df2.index:\n",
    "    if pd.isnull(df2[\"Bathroom\"].loc[x]):\n",
    "        df2[\"Bathroom\"].loc[x] = df2[\"Bathroom\"].groupby((df2[\"Bedroom\"] == df2[\"Bedroom\"].loc[x]) & \n",
    "                                                          (df2[\"Reception\"] == df2[\"Reception\"].loc[x])).mean().sort_index()[1]\n",
    "    if pd.isnull(df2[\"Reception\"].loc[x]):\n",
    "        df2[\"Reception\"].loc[x] = df2[\"Reception\"].groupby((df2[\"Bedroom\"] == df2[\"Bedroom\"].loc[x]) & \n",
    "                                                            (df2[\"Bathroom\"] == df2[\"Bathroom\"].loc[x])).mean().sort_index()[1]\n",
    "df2"
   ]
  },
  {
   "cell_type": "markdown",
   "id": "7efc4612",
   "metadata": {},
   "source": [
    "Now we can deal the row with abnormal prices to increase the accuracy of dataset. We will drop top 50 values and bottom 50 values to ensure the analysis would not be inaccurate."
   ]
  },
  {
   "cell_type": "code",
   "execution_count": 134,
   "id": "4949bd3b",
   "metadata": {},
   "outputs": [],
   "source": [
    "df2.drop(index=df2.nlargest(50, 'Price').index, inplace=True)\n",
    "df2.drop(index=df2.nsmallest(50, 'Price').index, inplace=True)"
   ]
  },
  {
   "cell_type": "markdown",
   "id": "045d4957",
   "metadata": {},
   "source": [
    "Also, we should consider that small value count is not reliable because the amount of sample are too few. Thus we also need to examine the value count of bedroom and drop rows if any of them has too few sample. "
   ]
  },
  {
   "cell_type": "code",
   "execution_count": 135,
   "id": "2084ff09",
   "metadata": {},
   "outputs": [
    {
     "name": "stdout",
     "output_type": "stream",
     "text": [
      "3.0    5323\n",
      "2.0    3147\n",
      "4.0    1963\n",
      "1.0     487\n",
      "5.0     424\n",
      "6.0      76\n",
      "7.0      22\n",
      "8.0       3\n",
      "9.0       1\n",
      "Name: Bedroom, dtype: int64\n",
      "1.000000    7161\n",
      "2.000000    2453\n",
      "3.000000     425\n",
      "1.229488     336\n",
      "1.112534     256\n",
      "1.242503     138\n",
      "1.242503     119\n",
      "1.774737      73\n",
      "1.795349      70\n",
      "4.000000      69\n",
      "1.795349      65\n",
      "1.137868      38\n",
      "1.464865      28\n",
      "2.193333      27\n",
      "2.080702      26\n",
      "2.080702      26\n",
      "1.034739      21\n",
      "1.034739      20\n",
      "5.000000      18\n",
      "1.137868      15\n",
      "2.089286       9\n",
      "2.474074       7\n",
      "2.474074       5\n",
      "3.036522       4\n",
      "2.277778       4\n",
      "6.000000       4\n",
      "1.307692       4\n",
      "2.089286       3\n",
      "2.304348       3\n",
      "1.692308       2\n",
      "2.964286       2\n",
      "2.888889       2\n",
      "1.229488       2\n",
      "1.774737       2\n",
      "2.964286       1\n",
      "2.913043       1\n",
      "9.000000       1\n",
      "7.000000       1\n",
      "1.315789       1\n",
      "2.200000       1\n",
      "2.277778       1\n",
      "1.692308       1\n",
      "Name: Bathroom, dtype: int64\n",
      "1.000000    6295\n",
      "2.000000    3982\n",
      "3.000000     766\n",
      "4.000000     107\n",
      "1.217267      68\n",
      "1.490146      61\n",
      "1.561786      26\n",
      "1.041063      24\n",
      "1.490146      24\n",
      "1.966486      20\n",
      "5.000000      18\n",
      "1.278997      11\n",
      "1.807393       9\n",
      "1.966486       8\n",
      "2.316456       5\n",
      "1.561786       5\n",
      "2.183168       2\n",
      "2.956522       2\n",
      "2.548292       2\n",
      "2.526786       2\n",
      "2.134328       2\n",
      "2.956522       1\n",
      "1.810811       1\n",
      "2.666667       1\n",
      "2.827586       1\n",
      "1.500000       1\n",
      "7.000000       1\n",
      "6.000000       1\n",
      "Name: Reception, dtype: int64\n"
     ]
    }
   ],
   "source": [
    "print(df2[\"Bedroom\"].value_counts())\n",
    "print(df2[\"Bathroom\"].value_counts())\n",
    "print(df2[\"Reception\"].value_counts())"
   ]
  },
  {
   "cell_type": "markdown",
   "id": "fc4ac218",
   "metadata": {},
   "source": [
    "We can see that the amount of sample for bedroom > 5 or bathroom > 4 or Reception > 4 are too few, thus we need to drop them."
   ]
  },
  {
   "cell_type": "code",
   "execution_count": 136,
   "id": "3b1705b2",
   "metadata": {},
   "outputs": [],
   "source": [
    "df2 = df2[df2[\"Bedroom\"] < 5]\n",
    "df2 = df2[df2[\"Bathroom\"] < 4]\n",
    "df2 = df2[df2[\"Reception\"] < 4]"
   ]
  },
  {
   "cell_type": "markdown",
   "id": "93b0bd27",
   "metadata": {},
   "source": [
    "Now we can insert the days for visulization. Let's set the earliest date as 0, and assign value to other dates."
   ]
  },
  {
   "cell_type": "code",
   "execution_count": 137,
   "id": "9711665d",
   "metadata": {},
   "outputs": [],
   "source": [
    "df2[\"Date\"] = pd.to_datetime(df2[\"Date\"])\n",
    "df2[\"Month\"] = None # Create a day column\n",
    "for x in df2.index:\n",
    "    df2[\"Month\"].loc[x] = round((df2[\"Date\"].loc[x] - df2[\"Date\"].min()).days /30)  # A way to get approximate month"
   ]
  },
  {
   "cell_type": "code",
   "execution_count": 162,
   "id": "e5a4bde9",
   "metadata": {},
   "outputs": [
    {
     "data": {
      "text/plain": [
       "357254.34959349595"
      ]
     },
     "execution_count": 162,
     "metadata": {},
     "output_type": "execute_result"
    }
   ],
   "source": [
    "df2[df2[\"County\"] == \"OXFORDSHIRE\"][\"Price\"].mean()"
   ]
  },
  {
   "cell_type": "markdown",
   "id": "484f3ad4",
   "metadata": {},
   "source": [
    "Let's see what locations distribute most of the trade."
   ]
  },
  {
   "cell_type": "code",
   "execution_count": 139,
   "id": "7a38c50b",
   "metadata": {},
   "outputs": [
    {
     "data": {
      "text/plain": [
       "GREATER LONDON            1031\n",
       "GREATER MANCHESTER         528\n",
       "WEST MIDLANDS              514\n",
       "WEST YORKSHIRE             508\n",
       "KENT                       308\n",
       "                          ... \n",
       "MONMOUTHSHIRE               11\n",
       "RUTLAND                      9\n",
       "CEREDIGION                   6\n",
       "WEST NORTHAMPTONSHIRE        1\n",
       "NORTH NORTHAMPTONSHIRE       1\n",
       "Name: County, Length: 114, dtype: int64"
      ]
     },
     "execution_count": 139,
     "metadata": {},
     "output_type": "execute_result"
    }
   ],
   "source": [
    "df2[\"County\"].value_counts()"
   ]
  },
  {
   "cell_type": "markdown",
   "id": "cef50320",
   "metadata": {},
   "source": [
    "# Visualize to analyze the dataset\n",
    "\n",
    "Since we already have a clean dataset, now we can perform a visualization to this dataset and analyze the relation between the price and other features of houses. We will observe the graph that indicate the relation between price and purchase date, price and location, price and amount of room."
   ]
  },
  {
   "cell_type": "code",
   "execution_count": 140,
   "id": "7fa0f1ea",
   "metadata": {},
   "outputs": [
    {
     "data": {
      "image/png": "[encoded data removed]",
      "text/plain": [
       "<Figure size 432x288 with 1 Axes>"
      ]
     },
     "metadata": {
      "needs_background": "light"
     },
     "output_type": "display_data"
    },
    {
     "data": {
      "image/png": "[encoded data removed]",
      "text/plain": [
       "<Figure size 432x288 with 1 Axes>"
      ]
     },
     "metadata": {
      "needs_background": "light"
     },
     "output_type": "display_data"
    }
   ],
   "source": [
    "import matplotlib.pyplot as plt\n",
    "\n",
    "# Price vs date in Greater London (mean)\n",
    "plt.ticklabel_format(style='plain')\n",
    "plt.xlabel(\"Month\")\n",
    "plt.ylabel(\"Pound\")\n",
    "plt.title(\"GREATER LONDON Price vs Month\")\n",
    "np.polyfit()\n",
    "london = df2[df2[\"County\"] == \"GREATER LONDON\"].groupby(\"Month\")[\"Price\"].mean()\n",
    "london.plot.line()\n",
    "plt.show()\n",
    "\n",
    "# Price vs date in Greater Manchester (mean)\n",
    "plt.ticklabel_format(style='plain')\n",
    "plt.xlabel(\"Month\")\n",
    "plt.ylabel(\"Pound\")\n",
    "\n",
    "plt.title(\"GREATER MANCHESTER Price vs Month\")\n",
    "manchester = df2[df2[\"County\"] == \"GREATER MANCHESTER\"].groupby(\"Month\")[\"Price\"].mean()\n",
    "manchester.plot.line()\n",
    "plt.show()"
   ]
  },
  {
   "cell_type": "markdown",
   "id": "6930423c",
   "metadata": {},
   "source": [
    "From above graphs, we can see that date indeed is a factor to affect the price of house, however, the importance of date is far less than the importance of location. You can see that the mean price of houses in Greater London is almost three times of the mean price of houses in Greater Manchester."
   ]
  },
  {
   "cell_type": "markdown",
   "id": "c7eb9300",
   "metadata": {},
   "source": [
    "Now, let's see how the amount of rooms could affect the mean price of houses."
   ]
  },
  {
   "cell_type": "code",
   "execution_count": 142,
   "id": "a0de1e7b",
   "metadata": {},
   "outputs": [
    {
     "data": {
      "image/png": "[encoded data removed]",
      "text/plain": [
       "<Figure size 432x288 with 1 Axes>"
      ]
     },
     "metadata": {
      "needs_background": "light"
     },
     "output_type": "display_data"
    },
    {
     "data": {
      "image/png": "[encoded data removed]",
      "text/plain": [
       "<Figure size 432x288 with 1 Axes>"
      ]
     },
     "metadata": {
      "needs_background": "light"
     },
     "output_type": "display_data"
    }
   ],
   "source": [
    "# Price vs amount of bedroom in Greater London(mean)\n",
    "plt.ticklabel_format(style='plain')\n",
    "plt.xlabel(\"Room\")\n",
    "plt.ylabel(\"Pound\")\n",
    "plt.title(\"GREATER LONDON Price vs Bedroom\")\n",
    "london = df2[df2[\"County\"] == \"GREATER LONDON\"].groupby(\"Bedroom\")[\"Price\"].mean()\n",
    "london.plot.line()\n",
    "plt.show()\n",
    "\n",
    "# Price vs amount of bedroom in Greater Manchester(mean)\n",
    "plt.ticklabel_format(style='plain')\n",
    "plt.xlabel(\"Room\")\n",
    "plt.ylabel(\"Pound\")\n",
    "plt.title(\"GREATER MANCHESTER Price vs Bedroom\")\n",
    "london = df2[df2[\"County\"] == \"GREATER MANCHESTER\"].groupby(\"Bedroom\")[\"Price\"].mean()\n",
    "london.plot.line()\n",
    "plt.show()"
   ]
  },
  {
   "cell_type": "markdown",
   "id": "e9d7ec03",
   "metadata": {},
   "source": [
    "We can see that the amount of bedroom is also an important factor that could affect the mean price of houses. The importance of the amount of bedroom is greater than the imporance of the date of purchase. However, from above graph, we can conclude that the location factor is still the most important factor that affect the mean price of houses."
   ]
  },
  {
   "cell_type": "markdown",
   "id": "d072fc2e",
   "metadata": {},
   "source": [
    "# Train model to analyze the dataset\n",
    "\n",
    "Training a model by the merged dataset can also help us understand the importance of each feature of houses by examine the coefficient of each feature of houses. In this step, we will build a KNN model and LinearRegression model to predict the price of houses."
   ]
  },
  {
   "cell_type": "markdown",
   "id": "9309ce65",
   "metadata": {},
   "source": [
    "Before we build the model, we need to transform the dataset again because values in location column are string that cannot simply use to train the model.\n",
    "\n",
    "Now, we take a look on how many county exist, then indicate the county is a big city or not."
   ]
  },
  {
   "cell_type": "code",
   "execution_count": 143,
   "id": "3e70174f",
   "metadata": {},
   "outputs": [
    {
     "data": {
      "text/plain": [
       "array(['WEST MIDLANDS', 'WORCESTERSHIRE', 'STAFFORDSHIRE', 'SOMERSET',\n",
       "       'POOLE', 'DORSET', 'GREATER MANCHESTER', 'WEST SUSSEX',\n",
       "       'GREATER LONDON', 'CITY OF BRISTOL', 'CUMBRIA', 'CAMBRIDGESHIRE',\n",
       "       'BRIDGEND', 'RHONDDA CYNON TAFF', 'FLINTSHIRE', 'MERSEYSIDE',\n",
       "       'ESSEX', 'KENT', 'WARWICKSHIRE', 'CHESHIRE EAST', 'DERBYSHIRE',\n",
       "       'CITY OF DERBY', 'DARLINGTON', 'NORTH YORKSHIRE', 'COUNTY DURHAM',\n",
       "       'SOUTH YORKSHIRE', 'NOTTINGHAMSHIRE', 'NORTH EAST LINCOLNSHIRE',\n",
       "       'DEVON', 'BLACKPOOL', 'LANCASHIRE', 'GLOUCESTERSHIRE', 'SURREY',\n",
       "       'HAMPSHIRE', 'WEST YORKSHIRE', 'HERTFORDSHIRE',\n",
       "       'CITY OF KINGSTON UPON HULL', 'SUFFOLK', 'LEICESTERSHIRE',\n",
       "       'LEICESTER', 'CONWY', 'CENTRAL BEDFORDSHIRE', 'MEDWAY',\n",
       "       'NORTHUMBERLAND', 'TYNE AND WEAR', 'CITY OF NOTTINGHAM',\n",
       "       'LINCOLNSHIRE', 'NORTHAMPTONSHIRE', 'NEWPORT', 'NORFOLK',\n",
       "       'OXFORDSHIRE', 'CITY OF PETERBOROUGH', 'CORNWALL', 'PORTSMOUTH',\n",
       "       'READING', 'WEST BERKSHIRE', 'BRACKNELL FOREST', 'WOKINGHAM',\n",
       "       'SWANSEA', 'CARMARTHENSHIRE', 'WILTSHIRE', 'SOUTHAMPTON',\n",
       "       'SOUTHEND-ON-SEA', 'STOKE-ON-TRENT', 'SHROPSHIRE', 'WREKIN',\n",
       "       'EAST SUSSEX', 'TORBAY', 'REDCAR AND CLEVELAND',\n",
       "       'STOCKTON-ON-TEES', 'YORK', 'EAST RIDING OF YORKSHIRE',\n",
       "       'BOURNEMOUTH', 'BRIGHTON AND HOVE', 'NORTH SOMERSET',\n",
       "       'SOUTH GLOUCESTERSHIRE', 'BATH AND NORTH EAST SOMERSET', 'CARDIFF',\n",
       "       'THE VALE OF GLAMORGAN', 'CHESHIRE WEST AND CHESTER',\n",
       "       'BUCKINGHAMSHIRE', 'DENBIGHSHIRE', 'MILTON KEYNES', 'CAERPHILLY',\n",
       "       'TORFAEN', 'CITY OF PLYMOUTH', 'ISLE OF WIGHT',\n",
       "       'NEATH PORT TALBOT', 'SLOUGH', 'SWINDON', 'POWYS', 'MIDDLESBROUGH',\n",
       "       'HALTON', 'NORTH LINCOLNSHIRE', 'GWYNEDD', 'BEDFORD',\n",
       "       'BLAENAU GWENT', 'WINDSOR AND MAIDENHEAD', 'MERTHYR TYDFIL',\n",
       "       'HEREFORDSHIRE', 'THURROCK', 'WARRINGTON', 'RUTLAND', 'WREXHAM',\n",
       "       'LUTON', 'CEREDIGION', 'BLACKBURN WITH DARWEN', 'ISLE OF ANGLESEY',\n",
       "       'MONMOUTHSHIRE', 'HARTLEPOOL', 'PEMBROKESHIRE',\n",
       "       'BOURNEMOUTH, CHRISTCHURCH AND POOLE', 'WEST NORTHAMPTONSHIRE',\n",
       "       'NORTH NORTHAMPTONSHIRE'], dtype=object)"
      ]
     },
     "execution_count": 143,
     "metadata": {},
     "output_type": "execute_result"
    }
   ],
   "source": [
    "df2[\"County\"].unique()"
   ]
  },
  {
   "cell_type": "code",
   "execution_count": 176,
   "id": "7ccf0671",
   "metadata": {},
   "outputs": [],
   "source": [
    "# Create Columns indicate the size of county\n",
    "df2[\"BigCity\"] = None\n",
    "df2[\"NearBigCity\"] = None\n",
    "df2[\"MediumCity\"] = None\n",
    "\n",
    "df2.loc[(df2[\"County\"] == \"GREATER LONDON\"), \"BigCity\"] = 1\n",
    "\n",
    "df2.loc[(df2[\"County\"] == \"KENT\")|\n",
    "        (df2[\"County\"] == \"WEST SUSSEX\")|\n",
    "        (df2[\"County\"] == \"CAMBRIDGESHIRE\")|\n",
    "        (df2[\"County\"] == \"ESSEX\")|\n",
    "        (df2[\"County\"] == \"SURREY\")|\n",
    "        (df2[\"County\"] == \"HERTFORDSHIRE\")|\n",
    "        (df2[\"County\"] == \"MEDWAY\")|\n",
    "        (df2[\"County\"] == \"OXFORDSHIRE\")|\n",
    "        (df2[\"County\"] == \"READING\")|\n",
    "        (df2[\"County\"] == \"WEST BERKSHIRE\")|\n",
    "        (df2[\"County\"] == \"BRACKNELL FOREST\")|\n",
    "        (df2[\"County\"] == \"WOKINGHAM\")|\n",
    "        (df2[\"County\"] == \"EAST SUSSEX\")|\n",
    "        (df2[\"County\"] == \"BUCKINGHAMSHIRE\")|\n",
    "        (df2[\"County\"] == \"SLOUGH\")|\n",
    "        (df2[\"County\"] == \"WINDSOR AND MAIDENHEAD\")|\n",
    "        (df2[\"County\"] == \"THURROCK\")|\n",
    "        (df2[\"County\"] == \"LUTON\"), \"NearBigCity\"] = 1\n",
    "\n",
    "df2.loc[(df2[\"County\"] == \"GREATER MANCHESTER\")|\n",
    "        (df2[\"County\"] == \"WEST MIDLANDS\")|\n",
    "        (df2[\"County\"] == \"MERSEYSIDE\")|\n",
    "        (df2[\"County\"] == \"WEST YORKSHIRE\"), \"MediumCity\"] = 1\n",
    "\n",
    "df2 = df2.fillna(0)"
   ]
  },
  {
   "cell_type": "markdown",
   "id": "a20bede7",
   "metadata": {},
   "source": [
    "Now we can build a model and train it with the dataset above."
   ]
  },
  {
   "cell_type": "code",
   "execution_count": 217,
   "id": "68a26b45",
   "metadata": {},
   "outputs": [
    {
     "name": "stdout",
     "output_type": "stream",
     "text": [
      "Linear Regression Score: 0.49918490777185126\n",
      "KNN Score: 0.4396713452926592\n"
     ]
    }
   ],
   "source": [
    "from sklearn.linear_model import LinearRegression\n",
    "from sklearn.preprocessing import StandardScaler\n",
    "from sklearn.neighbors import KNeighborsRegressor\n",
    "from sklearn.pipeline import make_pipeline\n",
    "from sklearn.model_selection import cross_val_score\n",
    "\n",
    "\n",
    "# We use half of the dataset as samples, and the rest of half to test the model.\n",
    "\n",
    "df_train = df2.copy()\n",
    "X_train = df_train.iloc[range(0, int(len(df_train)/2))]\n",
    "X_train = X_train[[\"Bedroom\", \"Bathroom\", \"Reception\", \"Month\", \"BigCity\", \"NearBigCity\", \"MediumCity\"]]\n",
    "y_train = df_train.iloc[range(0, int(len(df_train)/2))]\n",
    "y_train = y_train[\"Price\"]\n",
    "\n",
    "LR_model = LinearRegression()\n",
    "\n",
    "KNN_model = make_pipeline(StandardScaler(),\n",
    "                          KNeighborsRegressor(n_neighbors=5))\n",
    "\n",
    "LR_model.fit(X=X_train, y=y_train)\n",
    "print(\"Linear Regression Score:\", np.mean(cross_val_score(LR_model, X=X_train, y=y_train, cv=10)))\n",
    "\n",
    "\n",
    "KNN_model.fit(X=X_train, y=y_train)\n",
    "print(\"KNN Score:\", np.mean(cross_val_score(KNN_model, X=X_train, y=y_train, cv=10)))"
   ]
  },
  {
   "cell_type": "markdown",
   "id": "0dee90e2",
   "metadata": {},
   "source": [
    "It seems that Linear Regression model has a better performance to predict the price of houses. Let's use some data from the rest of dataset to test the Linear Regression model."
   ]
  },
  {
   "cell_type": "code",
   "execution_count": 215,
   "id": "b2836084",
   "metadata": {},
   "outputs": [
    {
     "name": "stdout",
     "output_type": "stream",
     "text": [
      "[220760.42720109 133211.89117716 204488.97402899 ... 220820.46894187\n",
      " 203339.07285183 432723.08380552]\n",
      "\n",
      "1997532    135000\n",
      "1998687     87000\n",
      "1998767    195000\n",
      "1998821     99000\n",
      "1998840    230000\n",
      "            ...  \n",
      "3883565    299950\n",
      "3883889    320000\n",
      "3884058    165000\n",
      "3884318    190000\n",
      "3885721    380000\n",
      "Name: Price, Length: 5406, dtype: int64\n"
     ]
    }
   ],
   "source": [
    "X_test = df_train.iloc[range(int(len(df_train)/2), int(len(df_train)))]\n",
    "X_test = X_test[[\"Bedroom\", \"Bathroom\", \"Reception\", \"Month\", \"BigCity\", \"NearBigCity\", \"MediumCity\"]]\n",
    "y_test = df_train.iloc[range(int(len(df_train)/2), int(len(df_train)))]\n",
    "y_test = y_test[\"Price\"]\n",
    "\n",
    "y_pred = LR_model.predict(X_test)\n",
    "print(y_pred)\n",
    "print()\n",
    "print(y_test)"
   ]
  },
  {
   "cell_type": "markdown",
   "id": "2634c7b4",
   "metadata": {},
   "source": [
    "It seems that the model is not accurate enough to predict the price.\n",
    "We can check the coefficient of the model to see if anything interest."
   ]
  },
  {
   "cell_type": "code",
   "execution_count": 219,
   "id": "bd175106",
   "metadata": {},
   "outputs": [
    {
     "data": {
      "text/plain": [
       "array([ 54733.8592678 ,  72087.46276791,  32814.67675612,    522.15487203,\n",
       "       318544.95530771, 141423.94166489, -30475.22615009])"
      ]
     },
     "execution_count": 219,
     "metadata": {},
     "output_type": "execute_result"
    }
   ],
   "source": [
    "LR_model.coef_"
   ]
  },
  {
   "cell_type": "markdown",
   "id": "4dc8e7ce",
   "metadata": {},
   "source": [
    "From above coefficient, the model recognize that the main factor of mean price of houses is the location. Houses in London has extremely high price compare to the other location. Also, houses with its location near London also has a boost on its price. Besides, the amount of bedroom is less important than the amount of bathroom. Date of purchase take a very small portion of the mean price, however, it is still a important factor since 1 year could rise the mean price about 6264 pound."
   ]
  },
  {
   "cell_type": "markdown",
   "id": "2de8a3c3",
   "metadata": {},
   "source": [
    "# Conclusion\n",
    "\n",
    "Location is the most important factor to the price of houses, and then the amount of rooms (size) of house is the second important factor to the price of house. The less important factor is the date of purchase, however, it still giving a positive effect to the price of house."
   ]
  }
 ],
 "metadata": {
  "kernelspec": {
   "display_name": "Python 3 (ipykernel)",
   "language": "python",
   "name": "python3"
  },
  "language_info": {
   "codemirror_mode": {
    "name": "ipython",
    "version": 3
   },
   "file_extension": ".py",
   "mimetype": "text/x-python",
   "name": "python",
   "nbconvert_exporter": "python",
   "pygments_lexer": "ipython3",
   "version": "3.9.6"
  }
 },
 "nbformat": 4,
 "nbformat_minor": 5
}
